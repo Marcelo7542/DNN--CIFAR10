{
 "cells": [
  {
   "cell_type": "code",
   "execution_count": 26,
   "id": "444402e7-88e4-4a8e-a8e7-402c67a64fe2",
   "metadata": {},
   "outputs": [],
   "source": [
    "import tensorflow as tf\n",
    "import matplotlib.pyplot as plt\n",
    "from pathlib import Path"
   ]
  },
  {
   "cell_type": "code",
   "execution_count": 2,
   "id": "c58d9498-20b9-489b-a024-5977665dbce9",
   "metadata": {},
   "outputs": [],
   "source": [
    "def create_log_dir(run_name):\n",
    "    base_dir = Path(\"Logs\")\n",
    "    return base_dir / run_name"
   ]
  },
  {
   "cell_type": "code",
   "execution_count": 3,
   "id": "62eef4aa-3e07-41c8-8d08-6f51020e0bb4",
   "metadata": {},
   "outputs": [
    {
     "name": "stdout",
     "output_type": "stream",
     "text": [
      "Downloading data from https://www.cs.toronto.edu/~kriz/cifar-10-python.tar.gz\n",
      "\u001b[1m170498071/170498071\u001b[0m \u001b[32m━━━━━━━━━━━━━━━━━━━━\u001b[0m\u001b[37m\u001b[0m \u001b[1m427s\u001b[0m 3us/step\n"
     ]
    }
   ],
   "source": [
    "cifar10 = tf.keras.datasets.cifar10.load_data()\n",
    "(X_train_full, y_train_full), (X_test, y_test) = cifar10\n",
    "\n",
    "X_train = X_train_full[5000:]\n",
    "y_train = y_train_full[5000:]\n",
    "X_valid = X_train_full[:5000]\n",
    "y_valid = y_train_full[:5000]"
   ]
  },
  {
   "cell_type": "code",
   "execution_count": 4,
   "id": "1dd8f64d-1916-406b-932f-a658a3bc943d",
   "metadata": {},
   "outputs": [
    {
     "data": {
      "text/plain": [
       "<matplotlib.image.AxesImage at 0x22984f1f210>"
      ]
     },
     "execution_count": 4,
     "metadata": {},
     "output_type": "execute_result"
    },
    {
     "data": {
      "image/png": "[encoded data removed]",
      "text/plain": [
       "<Figure size 640x480 with 1 Axes>"
      ]
     },
     "metadata": {},
     "output_type": "display_data"
    }
   ],
   "source": [
    "plt.imshow(X_train[1])"
   ]
  },
  {
   "cell_type": "code",
   "execution_count": 5,
   "id": "7b773376-3b16-4bfa-a410-0749ee1d5683",
   "metadata": {},
   "outputs": [],
   "source": [
    "tf.random.set_seed(60)"
   ]
  },
  {
   "cell_type": "code",
   "execution_count": 183,
   "id": "595b24a3-c43d-4475-aa6b-174f4b78edcb",
   "metadata": {},
   "outputs": [],
   "source": [
    "DNN = tf.keras.Sequential()"
   ]
  },
  {
   "cell_type": "code",
   "execution_count": 184,
   "id": "181388a7-42c0-4ffd-b146-74149d00a970",
   "metadata": {},
   "outputs": [],
   "source": [
    "DNN.add(tf.keras.layers.Flatten(input_shape=[32,32,3]))"
   ]
  },
  {
   "cell_type": "code",
   "execution_count": 185,
   "id": "56f24f73-ebfc-461b-b1fc-669aa2ca47fe",
   "metadata": {},
   "outputs": [],
   "source": [
    "for i in range(20):\n",
    "    DNN.add(tf.keras.layers.Dense(100, activation=\"swish\",kernel_initializer=\"he_normal\"))"
   ]
  },
  {
   "cell_type": "code",
   "execution_count": 186,
   "id": "6dfd7ed5-3a76-4da6-a0fa-47692be5ab15",
   "metadata": {},
   "outputs": [],
   "source": [
    "DNN.add(tf.keras.layers.Dense(10, activation = \"softmax\"))"
   ]
  },
  {
   "cell_type": "code",
   "execution_count": 187,
   "id": "9677ff1f-3d16-49fb-b0fc-791ff9dce06d",
   "metadata": {},
   "outputs": [],
   "source": [
    "DNN.compile(optimizer = tf.keras.optimizers.Nadam(learning_rate=5e-5), loss = \"sparse_categorical_crossentropy\", metrics = ['accuracy'])"
   ]
  },
  {
   "cell_type": "code",
   "execution_count": 188,
   "id": "b6ee573a-c659-4525-a9da-9f6b8070186d",
   "metadata": {},
   "outputs": [],
   "source": [
    "stop = tf.keras.callbacks.EarlyStopping( restore_best_weights=True,  patience=15)\n",
    "model_checkpoint = tf.keras.callbacks.ModelCheckpoint(\"best_model.keras\", save_best_only=True)"
   ]
  },
  {
   "cell_type": "code",
   "execution_count": 189,
   "id": "a6b593cf-63f2-42ec-95bd-81324292ce8c",
   "metadata": {},
   "outputs": [],
   "source": [
    "index = 1\n",
    "log_dir_model_1 = create_log_dir(\"model_1_simple\")\n",
    "tensorboard = tf.keras.callbacks.TensorBoard(log_dir_model_1)\n",
    "callbacks = [stop, model_checkpoint, tensorboard]"
   ]
  },
  {
   "cell_type": "code",
   "execution_count": 190,
   "id": "4b594432-cd85-4138-a376-780b96fafbbb",
   "metadata": {},
   "outputs": [
    {
     "name": "stdout",
     "output_type": "stream",
     "text": [
      "Epoch 1/1000\n",
      "\u001b[1m1407/1407\u001b[0m \u001b[32m━━━━━━━━━━━━━━━━━━━━\u001b[0m\u001b[37m\u001b[0m \u001b[1m75s\u001b[0m 24ms/step - accuracy: 0.1271 - loss: 11.1350 - val_accuracy: 0.2050 - val_loss: 2.1536\n",
      "Epoch 2/1000\n",
      "\u001b[1m1407/1407\u001b[0m \u001b[32m━━━━━━━━━━━━━━━━━━━━\u001b[0m\u001b[37m\u001b[0m \u001b[1m35s\u001b[0m 23ms/step - accuracy: 0.2286 - loss: 2.0864 - val_accuracy: 0.2414 - val_loss: 2.0071\n",
      "Epoch 3/1000\n",
      "\u001b[1m1407/1407\u001b[0m \u001b[32m━━━━━━━━━━━━━━━━━━━━\u001b[0m\u001b[37m\u001b[0m \u001b[1m35s\u001b[0m 25ms/step - accuracy: 0.2707 - loss: 1.9668 - val_accuracy: 0.2820 - val_loss: 1.9394\n",
      "Epoch 4/1000\n",
      "\u001b[1m1407/1407\u001b[0m \u001b[32m━━━━━━━━━━━━━━━━━━━━\u001b[0m\u001b[37m\u001b[0m \u001b[1m31s\u001b[0m 22ms/step - accuracy: 0.3034 - loss: 1.8947 - val_accuracy: 0.2996 - val_loss: 1.8854\n",
      "Epoch 5/1000\n",
      "\u001b[1m1407/1407\u001b[0m \u001b[32m━━━━━━━━━━━━━━━━━━━━\u001b[0m\u001b[37m\u001b[0m \u001b[1m32s\u001b[0m 23ms/step - accuracy: 0.3317 - loss: 1.8379 - val_accuracy: 0.3298 - val_loss: 1.8465\n",
      "Epoch 6/1000\n",
      "\u001b[1m1407/1407\u001b[0m \u001b[32m━━━━━━━━━━━━━━━━━━━━\u001b[0m\u001b[37m\u001b[0m \u001b[1m32s\u001b[0m 22ms/step - accuracy: 0.3480 - loss: 1.7949 - val_accuracy: 0.3378 - val_loss: 1.8131\n",
      "Epoch 7/1000\n",
      "\u001b[1m1407/1407\u001b[0m \u001b[32m━━━━━━━━━━━━━━━━━━━━\u001b[0m\u001b[37m\u001b[0m \u001b[1m32s\u001b[0m 23ms/step - accuracy: 0.3634 - loss: 1.7494 - val_accuracy: 0.3656 - val_loss: 1.7536\n",
      "Epoch 8/1000\n",
      "\u001b[1m1407/1407\u001b[0m \u001b[32m━━━━━━━━━━━━━━━━━━━━\u001b[0m\u001b[37m\u001b[0m \u001b[1m31s\u001b[0m 22ms/step - accuracy: 0.3804 - loss: 1.7155 - val_accuracy: 0.3686 - val_loss: 1.7485\n",
      "Epoch 9/1000\n",
      "\u001b[1m1407/1407\u001b[0m \u001b[32m━━━━━━━━━━━━━━━━━━━━\u001b[0m\u001b[37m\u001b[0m \u001b[1m33s\u001b[0m 23ms/step - accuracy: 0.3975 - loss: 1.6765 - val_accuracy: 0.3926 - val_loss: 1.6872\n",
      "Epoch 10/1000\n",
      "\u001b[1m1407/1407\u001b[0m \u001b[32m━━━━━━━━━━━━━━━━━━━━\u001b[0m\u001b[37m\u001b[0m \u001b[1m33s\u001b[0m 23ms/step - accuracy: 0.4113 - loss: 1.6411 - val_accuracy: 0.4012 - val_loss: 1.6700\n",
      "Epoch 11/1000\n",
      "\u001b[1m1407/1407\u001b[0m \u001b[32m━━━━━━━━━━━━━━━━━━━━\u001b[0m\u001b[37m\u001b[0m \u001b[1m32s\u001b[0m 22ms/step - accuracy: 0.4193 - loss: 1.6144 - val_accuracy: 0.4044 - val_loss: 1.6481\n",
      "Epoch 12/1000\n",
      "\u001b[1m1407/1407\u001b[0m \u001b[32m━━━━━━━━━━━━━━━━━━━━\u001b[0m\u001b[37m\u001b[0m \u001b[1m46s\u001b[0m 32ms/step - accuracy: 0.4279 - loss: 1.5903 - val_accuracy: 0.4054 - val_loss: 1.6582\n",
      "Epoch 13/1000\n",
      "\u001b[1m1407/1407\u001b[0m \u001b[32m━━━━━━━━━━━━━━━━━━━━\u001b[0m\u001b[37m\u001b[0m \u001b[1m41s\u001b[0m 29ms/step - accuracy: 0.4327 - loss: 1.5699 - val_accuracy: 0.4152 - val_loss: 1.6321\n",
      "Epoch 14/1000\n",
      "\u001b[1m1407/1407\u001b[0m \u001b[32m━━━━━━━━━━━━━━━━━━━━\u001b[0m\u001b[37m\u001b[0m \u001b[1m59s\u001b[0m 42ms/step - accuracy: 0.4428 - loss: 1.5484 - val_accuracy: 0.4168 - val_loss: 1.6281\n",
      "Epoch 15/1000\n",
      "\u001b[1m1407/1407\u001b[0m \u001b[32m━━━━━━━━━━━━━━━━━━━━\u001b[0m\u001b[37m\u001b[0m \u001b[1m42s\u001b[0m 30ms/step - accuracy: 0.4490 - loss: 1.5316 - val_accuracy: 0.4232 - val_loss: 1.6098\n",
      "Epoch 16/1000\n",
      "\u001b[1m1407/1407\u001b[0m \u001b[32m━━━━━━━━━━━━━━━━━━━━\u001b[0m\u001b[37m\u001b[0m \u001b[1m33s\u001b[0m 24ms/step - accuracy: 0.4545 - loss: 1.5169 - val_accuracy: 0.4238 - val_loss: 1.6101\n",
      "Epoch 17/1000\n",
      "\u001b[1m1407/1407\u001b[0m \u001b[32m━━━━━━━━━━━━━━━━━━━━\u001b[0m\u001b[37m\u001b[0m \u001b[1m34s\u001b[0m 24ms/step - accuracy: 0.4649 - loss: 1.4997 - val_accuracy: 0.4222 - val_loss: 1.6096\n",
      "Epoch 18/1000\n",
      "\u001b[1m1407/1407\u001b[0m \u001b[32m━━━━━━━━━━━━━━━━━━━━\u001b[0m\u001b[37m\u001b[0m \u001b[1m40s\u001b[0m 24ms/step - accuracy: 0.4692 - loss: 1.4824 - val_accuracy: 0.4248 - val_loss: 1.6030\n",
      "Epoch 19/1000\n",
      "\u001b[1m1407/1407\u001b[0m \u001b[32m━━━━━━━━━━━━━━━━━━━━\u001b[0m\u001b[37m\u001b[0m \u001b[1m53s\u001b[0m 37ms/step - accuracy: 0.4742 - loss: 1.4747 - val_accuracy: 0.4110 - val_loss: 1.6350\n",
      "Epoch 20/1000\n",
      "\u001b[1m1407/1407\u001b[0m \u001b[32m━━━━━━━━━━━━━━━━━━━━\u001b[0m\u001b[37m\u001b[0m \u001b[1m47s\u001b[0m 33ms/step - accuracy: 0.4792 - loss: 1.4622 - val_accuracy: 0.4282 - val_loss: 1.5988\n",
      "Epoch 21/1000\n",
      "\u001b[1m1407/1407\u001b[0m \u001b[32m━━━━━━━━━━━━━━━━━━━━\u001b[0m\u001b[37m\u001b[0m \u001b[1m77s\u001b[0m 30ms/step - accuracy: 0.4820 - loss: 1.4490 - val_accuracy: 0.4272 - val_loss: 1.6047\n",
      "Epoch 22/1000\n",
      "\u001b[1m1407/1407\u001b[0m \u001b[32m━━━━━━━━━━━━━━━━━━━━\u001b[0m\u001b[37m\u001b[0m \u001b[1m74s\u001b[0m 24ms/step - accuracy: 0.4875 - loss: 1.4382 - val_accuracy: 0.4286 - val_loss: 1.6088\n",
      "Epoch 23/1000\n",
      "\u001b[1m1407/1407\u001b[0m \u001b[32m━━━━━━━━━━━━━━━━━━━━\u001b[0m\u001b[37m\u001b[0m \u001b[1m43s\u001b[0m 25ms/step - accuracy: 0.4902 - loss: 1.4274 - val_accuracy: 0.4268 - val_loss: 1.6123\n",
      "Epoch 24/1000\n",
      "\u001b[1m1407/1407\u001b[0m \u001b[32m━━━━━━━━━━━━━━━━━━━━\u001b[0m\u001b[37m\u001b[0m \u001b[1m41s\u001b[0m 25ms/step - accuracy: 0.4978 - loss: 1.4170 - val_accuracy: 0.4306 - val_loss: 1.6155\n",
      "Epoch 25/1000\n",
      "\u001b[1m1407/1407\u001b[0m \u001b[32m━━━━━━━━━━━━━━━━━━━━\u001b[0m\u001b[37m\u001b[0m \u001b[1m37s\u001b[0m 26ms/step - accuracy: 0.5034 - loss: 1.4029 - val_accuracy: 0.4334 - val_loss: 1.6091\n",
      "Epoch 26/1000\n",
      "\u001b[1m1407/1407\u001b[0m \u001b[32m━━━━━━━━━━━━━━━━━━━━\u001b[0m\u001b[37m\u001b[0m \u001b[1m38s\u001b[0m 27ms/step - accuracy: 0.5036 - loss: 1.3937 - val_accuracy: 0.4306 - val_loss: 1.6221\n",
      "Epoch 27/1000\n",
      "\u001b[1m1407/1407\u001b[0m \u001b[32m━━━━━━━━━━━━━━━━━━━━\u001b[0m\u001b[37m\u001b[0m \u001b[1m35s\u001b[0m 25ms/step - accuracy: 0.5089 - loss: 1.3830 - val_accuracy: 0.4276 - val_loss: 1.6199\n",
      "Epoch 28/1000\n",
      "\u001b[1m1407/1407\u001b[0m \u001b[32m━━━━━━━━━━━━━━━━━━━━\u001b[0m\u001b[37m\u001b[0m \u001b[1m47s\u001b[0m 33ms/step - accuracy: 0.5134 - loss: 1.3726 - val_accuracy: 0.4316 - val_loss: 1.6223\n",
      "Epoch 29/1000\n",
      "\u001b[1m1407/1407\u001b[0m \u001b[32m━━━━━━━━━━━━━━━━━━━━\u001b[0m\u001b[37m\u001b[0m \u001b[1m47s\u001b[0m 33ms/step - accuracy: 0.5175 - loss: 1.3628 - val_accuracy: 0.4302 - val_loss: 1.6355\n",
      "Epoch 30/1000\n",
      "\u001b[1m1407/1407\u001b[0m \u001b[32m━━━━━━━━━━━━━━━━━━━━\u001b[0m\u001b[37m\u001b[0m \u001b[1m50s\u001b[0m 36ms/step - accuracy: 0.5189 - loss: 1.3523 - val_accuracy: 0.4346 - val_loss: 1.6149\n",
      "Epoch 31/1000\n",
      "\u001b[1m1407/1407\u001b[0m \u001b[32m━━━━━━━━━━━━━━━━━━━━\u001b[0m\u001b[37m\u001b[0m \u001b[1m40s\u001b[0m 28ms/step - accuracy: 0.5239 - loss: 1.3414 - val_accuracy: 0.4342 - val_loss: 1.6072\n",
      "Epoch 32/1000\n",
      "\u001b[1m1407/1407\u001b[0m \u001b[32m━━━━━━━━━━━━━━━━━━━━\u001b[0m\u001b[37m\u001b[0m \u001b[1m38s\u001b[0m 27ms/step - accuracy: 0.5264 - loss: 1.3343 - val_accuracy: 0.4362 - val_loss: 1.6162\n",
      "Epoch 33/1000\n",
      "\u001b[1m1407/1407\u001b[0m \u001b[32m━━━━━━━━━━━━━━━━━━━━\u001b[0m\u001b[37m\u001b[0m \u001b[1m42s\u001b[0m 27ms/step - accuracy: 0.5356 - loss: 1.3232 - val_accuracy: 0.4400 - val_loss: 1.6201\n",
      "Epoch 34/1000\n",
      "\u001b[1m1407/1407\u001b[0m \u001b[32m━━━━━━━━━━━━━━━━━━━━\u001b[0m\u001b[37m\u001b[0m \u001b[1m38s\u001b[0m 25ms/step - accuracy: 0.5344 - loss: 1.3168 - val_accuracy: 0.4296 - val_loss: 1.6230\n",
      "Epoch 35/1000\n",
      "\u001b[1m1407/1407\u001b[0m \u001b[32m━━━━━━━━━━━━━━━━━━━━\u001b[0m\u001b[37m\u001b[0m \u001b[1m34s\u001b[0m 24ms/step - accuracy: 0.5361 - loss: 1.3064 - val_accuracy: 0.4346 - val_loss: 1.6072\n"
     ]
    },
    {
     "data": {
      "text/plain": [
       "<keras.src.callbacks.history.History at 0x1e42abf9e10>"
      ]
     },
     "execution_count": 190,
     "metadata": {},
     "output_type": "execute_result"
    }
   ],
   "source": [
    "DNN.fit(X_train, y_train, epochs=1000, validation_data=(X_valid, y_valid), callbacks=callbacks)"
   ]
  },
  {
   "cell_type": "code",
   "execution_count": 191,
   "id": "a6a4de65-0b69-4ff3-a09e-8357b8955f31",
   "metadata": {},
   "outputs": [
    {
     "name": "stdout",
     "output_type": "stream",
     "text": [
      "\u001b[1m157/157\u001b[0m \u001b[32m━━━━━━━━━━━━━━━━━━━━\u001b[0m\u001b[37m\u001b[0m \u001b[1m1s\u001b[0m 6ms/step - accuracy: 0.4293 - loss: 1.5952\n"
     ]
    },
    {
     "data": {
      "text/plain": [
       "[1.5987837314605713, 0.42820000648498535]"
      ]
     },
     "execution_count": 191,
     "metadata": {},
     "output_type": "execute_result"
    }
   ],
   "source": [
    "DNN.evaluate(X_valid, y_valid)"
   ]
  },
  {
   "cell_type": "code",
   "execution_count": 192,
   "id": "d9ee80da-10b5-4ffe-97fd-8f199a060744",
   "metadata": {},
   "outputs": [
    {
     "name": "stdout",
     "output_type": "stream",
     "text": [
      "The tensorboard extension is already loaded. To reload it, use:\n",
      "  %reload_ext tensorboard\n"
     ]
    },
    {
     "data": {
      "text/plain": [
       "Reusing TensorBoard on port 6006 (pid 14024), started 3:57:58 ago. (Use '!kill 14024' to kill it.)"
      ]
     },
     "metadata": {},
     "output_type": "display_data"
    },
    {
     "data": {
      "text/html": [
       "\n",
       "      <iframe id=\"tensorboard-frame-861a76606fd97e9a\" width=\"100%\" height=\"800\" frameborder=\"0\">\n",
       "      </iframe>\n",
       "      <script>\n",
       "        (function() {\n",
       "          const frame = document.getElementById(\"tensorboard-frame-861a76606fd97e9a\");\n",
       "          const url = new URL(\"/\", window.location);\n",
       "          const port = 6006;\n",
       "          if (port) {\n",
       "            url.port = port;\n",
       "          }\n",
       "          frame.src = url;\n",
       "        })();\n",
       "      </script>\n",
       "    "
      ],
      "text/plain": [
       "<IPython.core.display.HTML object>"
      ]
     },
     "metadata": {},
     "output_type": "display_data"
    }
   ],
   "source": [
    "%load_ext tensorboard\n",
    "%tensorboard --logdir=./Logs"
   ]
  },
  {
   "cell_type": "code",
   "execution_count": 193,
   "id": "41222cb8-94d7-48ab-a534-4555652d3a43",
   "metadata": {},
   "outputs": [],
   "source": [
    "DNN = tf.keras.Sequential()"
   ]
  },
  {
   "cell_type": "code",
   "execution_count": 194,
   "id": "f7d68001-7f13-4ef7-bdf0-0e5832e286ac",
   "metadata": {},
   "outputs": [],
   "source": [
    "DNN.add(tf.keras.layers.Flatten(input_shape=[32,32,3]))"
   ]
  },
  {
   "cell_type": "code",
   "execution_count": 195,
   "id": "b6005b59-0303-4d48-9c43-3df18de9e1d6",
   "metadata": {},
   "outputs": [],
   "source": [
    "for i in range(20):\n",
    "    DNN.add(tf.keras.layers.Dense(100, kernel_initializer=\"he_normal\"))\n",
    "    DNN.add(tf.keras.layers.BatchNormalization())\n",
    "    DNN.add(tf.keras.layers.Activation(\"swish\"))"
   ]
  },
  {
   "cell_type": "code",
   "execution_count": 196,
   "id": "0f1f7d3f-fe5a-4810-adf8-5982e4589d80",
   "metadata": {},
   "outputs": [],
   "source": [
    "DNN.add(tf.keras.layers.Dense(10, activation = \"softmax\"))"
   ]
  },
  {
   "cell_type": "code",
   "execution_count": 197,
   "id": "fa6bf3a9-6e59-44e2-9931-f212d7a15d73",
   "metadata": {},
   "outputs": [],
   "source": [
    "DNN.compile(optimizer = tf.keras.optimizers.Nadam(learning_rate=5e-4), loss = \"sparse_categorical_crossentropy\", metrics = ['accuracy'])"
   ]
  },
  {
   "cell_type": "code",
   "execution_count": 198,
   "id": "c0fa2902-ab07-4475-b188-6b5f02e5a57a",
   "metadata": {},
   "outputs": [],
   "source": [
    "stop = tf.keras.callbacks.EarlyStopping( restore_best_weights=True,  patience=15)\n",
    "model_checkpoint = tf.keras.callbacks.ModelCheckpoint(\"best_model.keras\", save_best_only=True)"
   ]
  },
  {
   "cell_type": "code",
   "execution_count": 199,
   "id": "0db54a20-0eab-4a76-8232-7794f529e71f",
   "metadata": {},
   "outputs": [],
   "source": [
    "index = 1\n",
    "log_dir_model_2 = create_log_dir(\"model_2_BatchNorm\")\n",
    "tensorboard = tf.keras.callbacks.TensorBoard(log_dir_model_2)\n",
    "callbacks = [stop, model_checkpoint, tensorboard]"
   ]
  },
  {
   "cell_type": "code",
   "execution_count": 200,
   "id": "8a947fb2-a700-4b49-9c0c-566f03ecba8f",
   "metadata": {},
   "outputs": [
    {
     "name": "stdout",
     "output_type": "stream",
     "text": [
      "Epoch 1/1000\n",
      "\u001b[1m1407/1407\u001b[0m \u001b[32m━━━━━━━━━━━━━━━━━━━━\u001b[0m\u001b[37m\u001b[0m \u001b[1m146s\u001b[0m 36ms/step - accuracy: 0.1905 - loss: 2.1965 - val_accuracy: 0.2922 - val_loss: 2.0048\n",
      "Epoch 2/1000\n",
      "\u001b[1m1407/1407\u001b[0m \u001b[32m━━━━━━━━━━━━━━━━━━━━\u001b[0m\u001b[37m\u001b[0m \u001b[1m49s\u001b[0m 35ms/step - accuracy: 0.3426 - loss: 1.8082 - val_accuracy: 0.3170 - val_loss: 1.9373\n",
      "Epoch 3/1000\n",
      "\u001b[1m1407/1407\u001b[0m \u001b[32m━━━━━━━━━━━━━━━━━━━━\u001b[0m\u001b[37m\u001b[0m \u001b[1m51s\u001b[0m 36ms/step - accuracy: 0.3972 - loss: 1.6785 - val_accuracy: 0.3364 - val_loss: 1.8975\n",
      "Epoch 4/1000\n",
      "\u001b[1m1407/1407\u001b[0m \u001b[32m━━━━━━━━━━━━━━━━━━━━\u001b[0m\u001b[37m\u001b[0m \u001b[1m49s\u001b[0m 35ms/step - accuracy: 0.4333 - loss: 1.5909 - val_accuracy: 0.3614 - val_loss: 1.8398\n",
      "Epoch 5/1000\n",
      "\u001b[1m1407/1407\u001b[0m \u001b[32m━━━━━━━━━━━━━━━━━━━━\u001b[0m\u001b[37m\u001b[0m \u001b[1m57s\u001b[0m 40ms/step - accuracy: 0.4610 - loss: 1.5213 - val_accuracy: 0.3930 - val_loss: 1.7579\n",
      "Epoch 6/1000\n",
      "\u001b[1m1407/1407\u001b[0m \u001b[32m━━━━━━━━━━━━━━━━━━━━\u001b[0m\u001b[37m\u001b[0m \u001b[1m51s\u001b[0m 36ms/step - accuracy: 0.4870 - loss: 1.4542 - val_accuracy: 0.3616 - val_loss: 1.9038\n",
      "Epoch 7/1000\n",
      "\u001b[1m1407/1407\u001b[0m \u001b[32m━━━━━━━━━━━━━━━━━━━━\u001b[0m\u001b[37m\u001b[0m \u001b[1m50s\u001b[0m 35ms/step - accuracy: 0.5162 - loss: 1.3859 - val_accuracy: 0.3830 - val_loss: 1.8824\n",
      "Epoch 8/1000\n",
      "\u001b[1m1407/1407\u001b[0m \u001b[32m━━━━━━━━━━━━━━━━━━━━\u001b[0m\u001b[37m\u001b[0m \u001b[1m46s\u001b[0m 33ms/step - accuracy: 0.5342 - loss: 1.3256 - val_accuracy: 0.3974 - val_loss: 1.8258\n",
      "Epoch 9/1000\n",
      "\u001b[1m1407/1407\u001b[0m \u001b[32m━━━━━━━━━━━━━━━━━━━━\u001b[0m\u001b[37m\u001b[0m \u001b[1m48s\u001b[0m 34ms/step - accuracy: 0.5580 - loss: 1.2711 - val_accuracy: 0.4006 - val_loss: 1.8627\n",
      "Epoch 10/1000\n",
      "\u001b[1m1407/1407\u001b[0m \u001b[32m━━━━━━━━━━━━━━━━━━━━\u001b[0m\u001b[37m\u001b[0m \u001b[1m43s\u001b[0m 31ms/step - accuracy: 0.5765 - loss: 1.2149 - val_accuracy: 0.3896 - val_loss: 2.0418\n",
      "Epoch 11/1000\n",
      "\u001b[1m1407/1407\u001b[0m \u001b[32m━━━━━━━━━━━━━━━━━━━━\u001b[0m\u001b[37m\u001b[0m \u001b[1m39s\u001b[0m 28ms/step - accuracy: 0.5949 - loss: 1.1699 - val_accuracy: 0.3966 - val_loss: 1.9528\n",
      "Epoch 12/1000\n",
      "\u001b[1m1407/1407\u001b[0m \u001b[32m━━━━━━━━━━━━━━━━━━━━\u001b[0m\u001b[37m\u001b[0m \u001b[1m38s\u001b[0m 27ms/step - accuracy: 0.6075 - loss: 1.1314 - val_accuracy: 0.3980 - val_loss: 2.0305\n",
      "Epoch 13/1000\n",
      "\u001b[1m1407/1407\u001b[0m \u001b[32m━━━━━━━━━━━━━━━━━━━━\u001b[0m\u001b[37m\u001b[0m \u001b[1m43s\u001b[0m 31ms/step - accuracy: 0.6224 - loss: 1.0869 - val_accuracy: 0.3860 - val_loss: 2.0233\n",
      "Epoch 14/1000\n",
      "\u001b[1m1407/1407\u001b[0m \u001b[32m━━━━━━━━━━━━━━━━━━━━\u001b[0m\u001b[37m\u001b[0m \u001b[1m41s\u001b[0m 29ms/step - accuracy: 0.6363 - loss: 1.0512 - val_accuracy: 0.3750 - val_loss: 2.1071\n",
      "Epoch 15/1000\n",
      "\u001b[1m1407/1407\u001b[0m \u001b[32m━━━━━━━━━━━━━━━━━━━━\u001b[0m\u001b[37m\u001b[0m \u001b[1m41s\u001b[0m 29ms/step - accuracy: 0.6434 - loss: 1.0181 - val_accuracy: 0.3676 - val_loss: 2.2314\n",
      "Epoch 16/1000\n",
      "\u001b[1m1407/1407\u001b[0m \u001b[32m━━━━━━━━━━━━━━━━━━━━\u001b[0m\u001b[37m\u001b[0m \u001b[1m42s\u001b[0m 30ms/step - accuracy: 0.6593 - loss: 0.9820 - val_accuracy: 0.3784 - val_loss: 2.1887\n",
      "Epoch 17/1000\n",
      "\u001b[1m1407/1407\u001b[0m \u001b[32m━━━━━━━━━━━━━━━━━━━━\u001b[0m\u001b[37m\u001b[0m \u001b[1m42s\u001b[0m 30ms/step - accuracy: 0.6692 - loss: 0.9537 - val_accuracy: 0.3666 - val_loss: 2.2763\n",
      "Epoch 18/1000\n",
      "\u001b[1m1407/1407\u001b[0m \u001b[32m━━━━━━━━━━━━━━━━━━━━\u001b[0m\u001b[37m\u001b[0m \u001b[1m42s\u001b[0m 29ms/step - accuracy: 0.6810 - loss: 0.9215 - val_accuracy: 0.3574 - val_loss: 2.3425\n",
      "Epoch 19/1000\n",
      "\u001b[1m1407/1407\u001b[0m \u001b[32m━━━━━━━━━━━━━━━━━━━━\u001b[0m\u001b[37m\u001b[0m \u001b[1m45s\u001b[0m 32ms/step - accuracy: 0.6902 - loss: 0.8957 - val_accuracy: 0.3752 - val_loss: 2.3788\n",
      "Epoch 20/1000\n",
      "\u001b[1m1407/1407\u001b[0m \u001b[32m━━━━━━━━━━━━━━━━━━━━\u001b[0m\u001b[37m\u001b[0m \u001b[1m44s\u001b[0m 32ms/step - accuracy: 0.6956 - loss: 0.8760 - val_accuracy: 0.3860 - val_loss: 2.2993\n"
     ]
    },
    {
     "data": {
      "text/plain": [
       "<keras.src.callbacks.history.History at 0x1e45b8a8210>"
      ]
     },
     "execution_count": 200,
     "metadata": {},
     "output_type": "execute_result"
    }
   ],
   "source": [
    "DNN.fit(X_train, y_train, epochs=1000, validation_data=(X_valid, y_valid), callbacks=callbacks)"
   ]
  },
  {
   "cell_type": "code",
   "execution_count": 201,
   "id": "2271ea70-e9d5-42e7-acab-558e65b071c5",
   "metadata": {},
   "outputs": [
    {
     "name": "stdout",
     "output_type": "stream",
     "text": [
      "\u001b[1m157/157\u001b[0m \u001b[32m━━━━━━━━━━━━━━━━━━━━\u001b[0m\u001b[37m\u001b[0m \u001b[1m1s\u001b[0m 7ms/step - accuracy: 0.4095 - loss: 1.7204\n"
     ]
    },
    {
     "data": {
      "text/plain": [
       "[1.7578718662261963, 0.3930000066757202]"
      ]
     },
     "execution_count": 201,
     "metadata": {},
     "output_type": "execute_result"
    }
   ],
   "source": [
    "DNN.evaluate(X_valid, y_valid)"
   ]
  },
  {
   "cell_type": "code",
   "execution_count": 203,
   "id": "ef586265-bba2-4677-aac3-827eb3268871",
   "metadata": {},
   "outputs": [],
   "source": [
    "\n",
    "DNN = tf.keras.Sequential()"
   ]
  },
  {
   "cell_type": "code",
   "execution_count": 204,
   "id": "49487f7e-7c47-4668-ab57-0e03cca19770",
   "metadata": {},
   "outputs": [],
   "source": [
    "DNN.add(tf.keras.layers.Flatten(input_shape=[32,32,3]))"
   ]
  },
  {
   "cell_type": "code",
   "execution_count": 205,
   "id": "f277224b-8f93-41db-aeb9-abb0623e0d3a",
   "metadata": {},
   "outputs": [],
   "source": [
    "for i in range(20):\n",
    "    DNN.add(tf.keras.layers.Dense(100, kernel_initializer=\"lecun_normal\", activation='selu'))"
   ]
  },
  {
   "cell_type": "code",
   "execution_count": 206,
   "id": "f4eae60c-7d8a-435b-a572-8513f2dbd41b",
   "metadata": {},
   "outputs": [],
   "source": [
    "DNN.add(tf.keras.layers.Dense(10, activation = \"softmax\"))"
   ]
  },
  {
   "cell_type": "code",
   "execution_count": 207,
   "id": "0ee7d6aa-ffff-428b-b427-52117a5ed415",
   "metadata": {},
   "outputs": [],
   "source": [
    "DNN.compile(optimizer = tf.keras.optimizers.SGD(learning_rate=5e-4, momentum = 0.9, nesterov=True), loss = \"sparse_categorical_crossentropy\", metrics = ['accuracy'])"
   ]
  },
  {
   "cell_type": "code",
   "execution_count": 208,
   "id": "e2999d50-def8-4f05-ac24-b31cf551383f",
   "metadata": {},
   "outputs": [],
   "source": [
    "stop = tf.keras.callbacks.EarlyStopping( restore_best_weights=True,  patience=15)\n",
    "model_checkpoint = tf.keras.callbacks.ModelCheckpoint(\"best_model.keras\", save_best_only=True)"
   ]
  },
  {
   "cell_type": "code",
   "execution_count": 209,
   "id": "69628c50-004c-49a7-ad1e-fcbec1b309f7",
   "metadata": {},
   "outputs": [],
   "source": [
    "index = 1\n",
    "log_dir_model_3 = create_log_dir(\"model_3_Selu\")\n",
    "tensorboard = tf.keras.callbacks.TensorBoard(log_dir_model_3)\n",
    "callbacks = [stop, model_checkpoint, tensorboard]"
   ]
  },
  {
   "cell_type": "code",
   "execution_count": 210,
   "id": "c086542b-d098-4cce-9c8e-119a8fb1c408",
   "metadata": {},
   "outputs": [],
   "source": [
    "mean = X_train.mean(axis=0)\n",
    "std = X_train.std(axis=0)\n",
    "X_train_scaled = (X_train - mean) / std\n",
    "X_valid_scaled = (X_valid - mean) / std\n",
    "X_test_scaled = (X_test - mean) / std"
   ]
  },
  {
   "cell_type": "code",
   "execution_count": 211,
   "id": "bbbcf920-40ba-42ca-a5f7-bad3f9494aa7",
   "metadata": {},
   "outputs": [
    {
     "name": "stdout",
     "output_type": "stream",
     "text": [
      "Epoch 1/1000\n",
      "\u001b[1m1407/1407\u001b[0m \u001b[32m━━━━━━━━━━━━━━━━━━━━\u001b[0m\u001b[37m\u001b[0m \u001b[1m178s\u001b[0m 42ms/step - accuracy: 0.3018 - loss: 1.9719 - val_accuracy: 0.3986 - val_loss: 1.6983\n",
      "Epoch 2/1000\n",
      "\u001b[1m1407/1407\u001b[0m \u001b[32m━━━━━━━━━━━━━━━━━━━━\u001b[0m\u001b[37m\u001b[0m \u001b[1m51s\u001b[0m 36ms/step - accuracy: 0.4173 - loss: 1.6434 - val_accuracy: 0.4326 - val_loss: 1.5915\n",
      "Epoch 3/1000\n",
      "\u001b[1m1407/1407\u001b[0m \u001b[32m━━━━━━━━━━━━━━━━━━━━\u001b[0m\u001b[37m\u001b[0m \u001b[1m92s\u001b[0m 43ms/step - accuracy: 0.4581 - loss: 1.5306 - val_accuracy: 0.4468 - val_loss: 1.5556\n",
      "Epoch 4/1000\n",
      "\u001b[1m1407/1407\u001b[0m \u001b[32m━━━━━━━━━━━━━━━━━━━━\u001b[0m\u001b[37m\u001b[0m \u001b[1m69s\u001b[0m 49ms/step - accuracy: 0.4847 - loss: 1.4547 - val_accuracy: 0.4626 - val_loss: 1.5333\n",
      "Epoch 5/1000\n",
      "\u001b[1m1407/1407\u001b[0m \u001b[32m━━━━━━━━━━━━━━━━━━━━\u001b[0m\u001b[37m\u001b[0m \u001b[1m64s\u001b[0m 45ms/step - accuracy: 0.5055 - loss: 1.3901 - val_accuracy: 0.4614 - val_loss: 1.5296\n",
      "Epoch 6/1000\n",
      "\u001b[1m1407/1407\u001b[0m \u001b[32m━━━━━━━━━━━━━━━━━━━━\u001b[0m\u001b[37m\u001b[0m \u001b[1m49s\u001b[0m 35ms/step - accuracy: 0.5266 - loss: 1.3340 - val_accuracy: 0.4688 - val_loss: 1.5239\n",
      "Epoch 7/1000\n",
      "\u001b[1m1407/1407\u001b[0m \u001b[32m━━━━━━━━━━━━━━━━━━━━\u001b[0m\u001b[37m\u001b[0m \u001b[1m43s\u001b[0m 30ms/step - accuracy: 0.5428 - loss: 1.2913 - val_accuracy: 0.4744 - val_loss: 1.5235\n",
      "Epoch 8/1000\n",
      "\u001b[1m1407/1407\u001b[0m \u001b[32m━━━━━━━━━━━━━━━━━━━━\u001b[0m\u001b[37m\u001b[0m \u001b[1m53s\u001b[0m 37ms/step - accuracy: 0.5617 - loss: 1.2438 - val_accuracy: 0.4736 - val_loss: 1.5361\n",
      "Epoch 9/1000\n",
      "\u001b[1m1407/1407\u001b[0m \u001b[32m━━━━━━━━━━━━━━━━━━━━\u001b[0m\u001b[37m\u001b[0m \u001b[1m48s\u001b[0m 34ms/step - accuracy: 0.5751 - loss: 1.2015 - val_accuracy: 0.4748 - val_loss: 1.5594\n",
      "Epoch 10/1000\n",
      "\u001b[1m1407/1407\u001b[0m \u001b[32m━━━━━━━━━━━━━━━━━━━━\u001b[0m\u001b[37m\u001b[0m \u001b[1m75s\u001b[0m 53ms/step - accuracy: 0.5917 - loss: 1.1631 - val_accuracy: 0.4774 - val_loss: 1.5651\n",
      "Epoch 11/1000\n",
      "\u001b[1m1407/1407\u001b[0m \u001b[32m━━━━━━━━━━━━━━━━━━━━\u001b[0m\u001b[37m\u001b[0m \u001b[1m70s\u001b[0m 49ms/step - accuracy: 0.6045 - loss: 1.1263 - val_accuracy: 0.4712 - val_loss: 1.5857\n",
      "Epoch 12/1000\n",
      "\u001b[1m1407/1407\u001b[0m \u001b[32m━━━━━━━━━━━━━━━━━━━━\u001b[0m\u001b[37m\u001b[0m \u001b[1m57s\u001b[0m 40ms/step - accuracy: 0.6149 - loss: 1.0933 - val_accuracy: 0.4648 - val_loss: 1.6023\n",
      "Epoch 13/1000\n",
      "\u001b[1m1407/1407\u001b[0m \u001b[32m━━━━━━━━━━━━━━━━━━━━\u001b[0m\u001b[37m\u001b[0m \u001b[1m48s\u001b[0m 33ms/step - accuracy: 0.6285 - loss: 1.0594 - val_accuracy: 0.4660 - val_loss: 1.6202\n",
      "Epoch 14/1000\n",
      "\u001b[1m1407/1407\u001b[0m \u001b[32m━━━━━━━━━━━━━━━━━━━━\u001b[0m\u001b[37m\u001b[0m \u001b[1m38s\u001b[0m 27ms/step - accuracy: 0.6385 - loss: 1.0330 - val_accuracy: 0.4648 - val_loss: 1.6469\n",
      "Epoch 15/1000\n",
      "\u001b[1m1407/1407\u001b[0m \u001b[32m━━━━━━━━━━━━━━━━━━━━\u001b[0m\u001b[37m\u001b[0m \u001b[1m32s\u001b[0m 23ms/step - accuracy: 0.6508 - loss: 1.0012 - val_accuracy: 0.4660 - val_loss: 1.6568\n",
      "Epoch 16/1000\n",
      "\u001b[1m1407/1407\u001b[0m \u001b[32m━━━━━━━━━━━━━━━━━━━━\u001b[0m\u001b[37m\u001b[0m \u001b[1m29s\u001b[0m 21ms/step - accuracy: 0.6562 - loss: 0.9738 - val_accuracy: 0.4644 - val_loss: 1.6978\n",
      "Epoch 17/1000\n",
      "\u001b[1m1407/1407\u001b[0m \u001b[32m━━━━━━━━━━━━━━━━━━━━\u001b[0m\u001b[37m\u001b[0m \u001b[1m30s\u001b[0m 21ms/step - accuracy: 0.6682 - loss: 0.9465 - val_accuracy: 0.4676 - val_loss: 1.7380\n",
      "Epoch 18/1000\n",
      "\u001b[1m1407/1407\u001b[0m \u001b[32m━━━━━━━━━━━━━━━━━━━━\u001b[0m\u001b[37m\u001b[0m \u001b[1m26s\u001b[0m 18ms/step - accuracy: 0.6749 - loss: 0.9248 - val_accuracy: 0.4588 - val_loss: 1.7775\n",
      "Epoch 19/1000\n",
      "\u001b[1m1407/1407\u001b[0m \u001b[32m━━━━━━━━━━━━━━━━━━━━\u001b[0m\u001b[37m\u001b[0m \u001b[1m27s\u001b[0m 19ms/step - accuracy: 0.6779 - loss: 0.9103 - val_accuracy: 0.4646 - val_loss: 1.8005\n",
      "Epoch 20/1000\n",
      "\u001b[1m1407/1407\u001b[0m \u001b[32m━━━━━━━━━━━━━━━━━━━━\u001b[0m\u001b[37m\u001b[0m \u001b[1m27s\u001b[0m 19ms/step - accuracy: 0.6879 - loss: 0.8893 - val_accuracy: 0.4638 - val_loss: 1.8280\n",
      "Epoch 21/1000\n",
      "\u001b[1m1407/1407\u001b[0m \u001b[32m━━━━━━━━━━━━━━━━━━━━\u001b[0m\u001b[37m\u001b[0m \u001b[1m23s\u001b[0m 16ms/step - accuracy: 0.7001 - loss: 0.8587 - val_accuracy: 0.4592 - val_loss: 1.8293\n",
      "Epoch 22/1000\n",
      "\u001b[1m1407/1407\u001b[0m \u001b[32m━━━━━━━━━━━━━━━━━━━━\u001b[0m\u001b[37m\u001b[0m \u001b[1m32s\u001b[0m 22ms/step - accuracy: 0.6995 - loss: 0.8504 - val_accuracy: 0.4474 - val_loss: 1.9061\n"
     ]
    },
    {
     "data": {
      "text/plain": [
       "<keras.src.callbacks.history.History at 0x1e478680210>"
      ]
     },
     "execution_count": 211,
     "metadata": {},
     "output_type": "execute_result"
    }
   ],
   "source": [
    "DNN.fit(X_train_scaled, y_train, epochs=1000, validation_data=(X_valid_scaled, y_valid), callbacks=callbacks)"
   ]
  },
  {
   "cell_type": "code",
   "execution_count": 212,
   "id": "3de8bb35-2ea4-40b9-a2f4-385d679ba9f9",
   "metadata": {},
   "outputs": [
    {
     "name": "stdout",
     "output_type": "stream",
     "text": [
      "\u001b[1m157/157\u001b[0m \u001b[32m━━━━━━━━━━━━━━━━━━━━\u001b[0m\u001b[37m\u001b[0m \u001b[1m1s\u001b[0m 7ms/step - accuracy: 0.4701 - loss: 1.5215\n"
     ]
    },
    {
     "data": {
      "text/plain": [
       "[1.5235320329666138, 0.47440001368522644]"
      ]
     },
     "execution_count": 212,
     "metadata": {},
     "output_type": "execute_result"
    }
   ],
   "source": [
    "DNN.evaluate(X_valid_scaled, y_valid)"
   ]
  },
  {
   "cell_type": "code",
   "execution_count": 213,
   "id": "8f3c5438-bc07-4d93-905e-85748343ea4d",
   "metadata": {},
   "outputs": [
    {
     "name": "stdout",
     "output_type": "stream",
     "text": [
      "The tensorboard extension is already loaded. To reload it, use:\n",
      "  %reload_ext tensorboard\n"
     ]
    },
    {
     "data": {
      "text/plain": [
       "Reusing TensorBoard on port 6006 (pid 14024), started 4:37:06 ago. (Use '!kill 14024' to kill it.)"
      ]
     },
     "metadata": {},
     "output_type": "display_data"
    },
    {
     "data": {
      "text/html": [
       "\n",
       "      <iframe id=\"tensorboard-frame-ca64c31310de5740\" width=\"100%\" height=\"800\" frameborder=\"0\">\n",
       "      </iframe>\n",
       "      <script>\n",
       "        (function() {\n",
       "          const frame = document.getElementById(\"tensorboard-frame-ca64c31310de5740\");\n",
       "          const url = new URL(\"/\", window.location);\n",
       "          const port = 6006;\n",
       "          if (port) {\n",
       "            url.port = port;\n",
       "          }\n",
       "          frame.src = url;\n",
       "        })();\n",
       "      </script>\n",
       "    "
      ],
      "text/plain": [
       "<IPython.core.display.HTML object>"
      ]
     },
     "metadata": {},
     "output_type": "display_data"
    }
   ],
   "source": [
    "%load_ext tensorboard\n",
    "%tensorboard --logdir=./Logs"
   ]
  },
  {
   "cell_type": "code",
   "execution_count": 6,
   "id": "ecfbd871-6b87-449c-a26a-66c90c87c43e",
   "metadata": {},
   "outputs": [],
   "source": [
    "DNN = tf.keras.Sequential()"
   ]
  },
  {
   "cell_type": "code",
   "execution_count": 7,
   "id": "1d20d3d3-e451-4485-a331-1ec753f7c460",
   "metadata": {},
   "outputs": [
    {
     "name": "stderr",
     "output_type": "stream",
     "text": [
      "C:\\Users\\marce\\anaconda4\\Lib\\site-packages\\keras\\src\\layers\\reshaping\\flatten.py:37: UserWarning: Do not pass an `input_shape`/`input_dim` argument to a layer. When using Sequential models, prefer using an `Input(shape)` object as the first layer in the model instead.\n",
      "  super().__init__(**kwargs)\n"
     ]
    }
   ],
   "source": [
    "DNN.add(tf.keras.layers.Flatten(input_shape=[32,32,3]))"
   ]
  },
  {
   "cell_type": "code",
   "execution_count": 17,
   "id": "835ce24a-fa01-4513-a5cd-31b71c97a1dc",
   "metadata": {},
   "outputs": [],
   "source": [
    "for i in range(10):\n",
    "    DNN.add(tf.keras.layers.Dense(300, kernel_initializer=\"he_normal\", activation='swish'))\n",
    "    DNN.add(tf.keras.layers.BatchNormalization())\n",
    "    DNN.add(tf.keras.layers.Dropout(0.4))"
   ]
  },
  {
   "cell_type": "code",
   "execution_count": 18,
   "id": "fbe0b940-af5e-4bc6-a348-d114b20bc4b0",
   "metadata": {},
   "outputs": [],
   "source": [
    "\n",
    "DNN.add(tf.keras.layers.Dense(10, activation='softmax'))"
   ]
  },
  {
   "cell_type": "code",
   "execution_count": 19,
   "id": "a5f01c65-545b-4c1b-9490-b70cfe25cb27",
   "metadata": {},
   "outputs": [],
   "source": [
    "lr0 = 0.01\n",
    "DNN.compile(optimizer = tf.keras.optimizers.SGD(learning_rate=lr0, momentum = 0.9, nesterov=True), loss = \"sparse_categorical_crossentropy\", metrics = ['accuracy'])"
   ]
  },
  {
   "cell_type": "code",
   "execution_count": 20,
   "id": "89232180-0efe-4036-a315-54e13976e069",
   "metadata": {},
   "outputs": [],
   "source": [
    "lr = tf.keras.callbacks.ReduceLROnPlateau(factor=0.5, patience=5)\n",
    "stop = tf.keras.callbacks.EarlyStopping( restore_best_weights=True,  patience=15)\n",
    "model_checkpoint = tf.keras.callbacks.ModelCheckpoint(\"best_model.keras\", save_best_only=True)"
   ]
  },
  {
   "cell_type": "code",
   "execution_count": 21,
   "id": "317580f9-7ffa-49b5-a373-d75ee8022062",
   "metadata": {},
   "outputs": [],
   "source": [
    "index = 1\n",
    "log_dir_model_4 = create_log_dir(\"model_4\")\n",
    "tensorboard = tf.keras.callbacks.TensorBoard(log_dir_model_4)\n",
    "callbacks = [stop, model_checkpoint,lr, tensorboard]"
   ]
  },
  {
   "cell_type": "code",
   "execution_count": 22,
   "id": "132aed21-e7b2-4468-bd72-d0fdc73ccdf0",
   "metadata": {},
   "outputs": [],
   "source": [
    "mean = X_train.mean(axis=0)\n",
    "std = X_train.std(axis=0)\n",
    "X_train_scaled = (X_train - mean) / std\n",
    "X_valid_scaled = (X_valid - mean) / std\n",
    "X_test_scaled = (X_test - mean) / std"
   ]
  },
  {
   "cell_type": "code",
   "execution_count": 23,
   "id": "e02f7e4d-d58d-44cf-a7fb-2c450e3b68ba",
   "metadata": {
    "scrolled": true
   },
   "outputs": [
    {
     "name": "stdout",
     "output_type": "stream",
     "text": [
      "Epoch 1/1000\n",
      "\u001b[1m1407/1407\u001b[0m \u001b[32m━━━━━━━━━━━━━━━━━━━━\u001b[0m\u001b[37m\u001b[0m \u001b[1m179s\u001b[0m 64ms/step - accuracy: 0.1128 - loss: 2.7126 - val_accuracy: 0.1734 - val_loss: 2.2501 - learning_rate: 0.0100\n",
      "Epoch 2/1000\n",
      "\u001b[1m1407/1407\u001b[0m \u001b[32m━━━━━━━━━━━━━━━━━━━━\u001b[0m\u001b[37m\u001b[0m \u001b[1m84s\u001b[0m 60ms/step - accuracy: 0.1542 - loss: 2.3174 - val_accuracy: 0.1768 - val_loss: 2.1629 - learning_rate: 0.0100\n",
      "Epoch 3/1000\n",
      "\u001b[1m1407/1407\u001b[0m \u001b[32m━━━━━━━━━━━━━━━━━━━━\u001b[0m\u001b[37m\u001b[0m \u001b[1m85s\u001b[0m 60ms/step - accuracy: 0.1581 - loss: 2.2110 - val_accuracy: 0.1832 - val_loss: 2.1193 - learning_rate: 0.0100\n",
      "Epoch 4/1000\n",
      "\u001b[1m1407/1407\u001b[0m \u001b[32m━━━━━━━━━━━━━━━━━━━━\u001b[0m\u001b[37m\u001b[0m \u001b[1m86s\u001b[0m 61ms/step - accuracy: 0.1645 - loss: 2.1458 - val_accuracy: 0.2024 - val_loss: 2.0886 - learning_rate: 0.0100\n",
      "Epoch 5/1000\n",
      "\u001b[1m1407/1407\u001b[0m \u001b[32m━━━━━━━━━━━━━━━━━━━━\u001b[0m\u001b[37m\u001b[0m \u001b[1m90s\u001b[0m 64ms/step - accuracy: 0.1696 - loss: 2.1428 - val_accuracy: 0.1970 - val_loss: 2.0730 - learning_rate: 0.0100\n",
      "Epoch 6/1000\n",
      "\u001b[1m1407/1407\u001b[0m \u001b[32m━━━━━━━━━━━━━━━━━━━━\u001b[0m\u001b[37m\u001b[0m \u001b[1m91s\u001b[0m 64ms/step - accuracy: 0.1831 - loss: 2.0854 - val_accuracy: 0.2138 - val_loss: 2.0370 - learning_rate: 0.0100\n",
      "Epoch 7/1000\n",
      "\u001b[1m1407/1407\u001b[0m \u001b[32m━━━━━━━━━━━━━━━━━━━━\u001b[0m\u001b[37m\u001b[0m \u001b[1m91s\u001b[0m 65ms/step - accuracy: 0.2030 - loss: 2.0573 - val_accuracy: 0.2290 - val_loss: 2.0284 - learning_rate: 0.0100\n",
      "Epoch 8/1000\n",
      "\u001b[1m1407/1407\u001b[0m \u001b[32m━━━━━━━━━━━━━━━━━━━━\u001b[0m\u001b[37m\u001b[0m \u001b[1m86s\u001b[0m 61ms/step - accuracy: 0.2152 - loss: 2.0476 - val_accuracy: 0.2260 - val_loss: 2.0229 - learning_rate: 0.0100\n",
      "Epoch 9/1000\n",
      "\u001b[1m1407/1407\u001b[0m \u001b[32m━━━━━━━━━━━━━━━━━━━━\u001b[0m\u001b[37m\u001b[0m \u001b[1m88s\u001b[0m 62ms/step - accuracy: 0.2213 - loss: 2.0335 - val_accuracy: 0.2384 - val_loss: 1.9879 - learning_rate: 0.0100\n",
      "Epoch 10/1000\n",
      "\u001b[1m1407/1407\u001b[0m \u001b[32m━━━━━━━━━━━━━━━━━━━━\u001b[0m\u001b[37m\u001b[0m \u001b[1m79s\u001b[0m 56ms/step - accuracy: 0.2371 - loss: 2.0073 - val_accuracy: 0.2692 - val_loss: 1.9423 - learning_rate: 0.0100\n",
      "Epoch 11/1000\n",
      "\u001b[1m1407/1407\u001b[0m \u001b[32m━━━━━━━━━━━━━━━━━━━━\u001b[0m\u001b[37m\u001b[0m \u001b[1m71s\u001b[0m 50ms/step - accuracy: 0.2469 - loss: 1.9811 - val_accuracy: 0.2604 - val_loss: 1.9476 - learning_rate: 0.0100\n",
      "Epoch 12/1000\n",
      "\u001b[1m1407/1407\u001b[0m \u001b[32m━━━━━━━━━━━━━━━━━━━━\u001b[0m\u001b[37m\u001b[0m \u001b[1m69s\u001b[0m 49ms/step - accuracy: 0.2435 - loss: 1.9669 - val_accuracy: 0.2442 - val_loss: 1.9609 - learning_rate: 0.0100\n",
      "Epoch 13/1000\n",
      "\u001b[1m1407/1407\u001b[0m \u001b[32m━━━━━━━━━━━━━━━━━━━━\u001b[0m\u001b[37m\u001b[0m \u001b[1m83s\u001b[0m 59ms/step - accuracy: 0.2572 - loss: 1.9528 - val_accuracy: 0.2648 - val_loss: 1.9082 - learning_rate: 0.0100\n",
      "Epoch 14/1000\n",
      "\u001b[1m1407/1407\u001b[0m \u001b[32m━━━━━━━━━━━━━━━━━━━━\u001b[0m\u001b[37m\u001b[0m \u001b[1m78s\u001b[0m 56ms/step - accuracy: 0.2533 - loss: 1.9374 - val_accuracy: 0.2856 - val_loss: 1.8802 - learning_rate: 0.0100\n",
      "Epoch 15/1000\n",
      "\u001b[1m1407/1407\u001b[0m \u001b[32m━━━━━━━━━━━━━━━━━━━━\u001b[0m\u001b[37m\u001b[0m \u001b[1m80s\u001b[0m 57ms/step - accuracy: 0.2684 - loss: 1.9093 - val_accuracy: 0.2690 - val_loss: 1.8693 - learning_rate: 0.0100\n",
      "Epoch 16/1000\n",
      "\u001b[1m1407/1407\u001b[0m \u001b[32m━━━━━━━━━━━━━━━━━━━━\u001b[0m\u001b[37m\u001b[0m \u001b[1m82s\u001b[0m 58ms/step - accuracy: 0.2733 - loss: 1.8909 - val_accuracy: 0.2796 - val_loss: 1.8451 - learning_rate: 0.0100\n",
      "Epoch 17/1000\n",
      "\u001b[1m1407/1407\u001b[0m \u001b[32m━━━━━━━━━━━━━━━━━━━━\u001b[0m\u001b[37m\u001b[0m \u001b[1m81s\u001b[0m 58ms/step - accuracy: 0.2760 - loss: 1.8739 - val_accuracy: 0.2870 - val_loss: 1.8130 - learning_rate: 0.0100\n",
      "Epoch 18/1000\n",
      "\u001b[1m1407/1407\u001b[0m \u001b[32m━━━━━━━━━━━━━━━━━━━━\u001b[0m\u001b[37m\u001b[0m \u001b[1m81s\u001b[0m 58ms/step - accuracy: 0.2848 - loss: 1.8561 - val_accuracy: 0.2924 - val_loss: 1.8171 - learning_rate: 0.0100\n",
      "Epoch 19/1000\n",
      "\u001b[1m1407/1407\u001b[0m \u001b[32m━━━━━━━━━━━━━━━━━━━━\u001b[0m\u001b[37m\u001b[0m \u001b[1m86s\u001b[0m 61ms/step - accuracy: 0.2925 - loss: 1.8417 - val_accuracy: 0.3190 - val_loss: 1.7770 - learning_rate: 0.0100\n",
      "Epoch 20/1000\n",
      "\u001b[1m1407/1407\u001b[0m \u001b[32m━━━━━━━━━━━━━━━━━━━━\u001b[0m\u001b[37m\u001b[0m \u001b[1m94s\u001b[0m 67ms/step - accuracy: 0.3013 - loss: 1.8384 - val_accuracy: 0.3220 - val_loss: 1.7909 - learning_rate: 0.0100\n",
      "Epoch 21/1000\n",
      "\u001b[1m1407/1407\u001b[0m \u001b[32m━━━━━━━━━━━━━━━━━━━━\u001b[0m\u001b[37m\u001b[0m \u001b[1m93s\u001b[0m 66ms/step - accuracy: 0.3092 - loss: 1.8171 - val_accuracy: 0.3400 - val_loss: 1.7729 - learning_rate: 0.0100\n",
      "Epoch 22/1000\n",
      "\u001b[1m1407/1407\u001b[0m \u001b[32m━━━━━━━━━━━━━━━━━━━━\u001b[0m\u001b[37m\u001b[0m \u001b[1m97s\u001b[0m 69ms/step - accuracy: 0.3297 - loss: 1.8026 - val_accuracy: 0.3538 - val_loss: 1.7462 - learning_rate: 0.0100\n",
      "Epoch 23/1000\n",
      "\u001b[1m1407/1407\u001b[0m \u001b[32m━━━━━━━━━━━━━━━━━━━━\u001b[0m\u001b[37m\u001b[0m \u001b[1m94s\u001b[0m 67ms/step - accuracy: 0.3281 - loss: 1.7909 - val_accuracy: 0.3548 - val_loss: 1.7506 - learning_rate: 0.0100\n",
      "Epoch 24/1000\n",
      "\u001b[1m1407/1407\u001b[0m \u001b[32m━━━━━━━━━━━━━━━━━━━━\u001b[0m\u001b[37m\u001b[0m \u001b[1m98s\u001b[0m 69ms/step - accuracy: 0.3442 - loss: 1.7751 - val_accuracy: 0.3646 - val_loss: 1.7351 - learning_rate: 0.0100\n",
      "Epoch 25/1000\n",
      "\u001b[1m1407/1407\u001b[0m \u001b[32m━━━━━━━━━━━━━━━━━━━━\u001b[0m\u001b[37m\u001b[0m \u001b[1m98s\u001b[0m 69ms/step - accuracy: 0.3512 - loss: 1.7623 - val_accuracy: 0.3760 - val_loss: 1.7092 - learning_rate: 0.0100\n",
      "Epoch 26/1000\n",
      "\u001b[1m1407/1407\u001b[0m \u001b[32m━━━━━━━━━━━━━━━━━━━━\u001b[0m\u001b[37m\u001b[0m \u001b[1m99s\u001b[0m 70ms/step - accuracy: 0.3514 - loss: 1.7603 - val_accuracy: 0.3704 - val_loss: 1.7358 - learning_rate: 0.0100\n",
      "Epoch 27/1000\n",
      "\u001b[1m1407/1407\u001b[0m \u001b[32m━━━━━━━━━━━━━━━━━━━━\u001b[0m\u001b[37m\u001b[0m \u001b[1m98s\u001b[0m 69ms/step - accuracy: 0.3594 - loss: 1.7395 - val_accuracy: 0.3548 - val_loss: 1.7324 - learning_rate: 0.0100\n",
      "Epoch 28/1000\n",
      "\u001b[1m1407/1407\u001b[0m \u001b[32m━━━━━━━━━━━━━━━━━━━━\u001b[0m\u001b[37m\u001b[0m \u001b[1m98s\u001b[0m 70ms/step - accuracy: 0.3740 - loss: 1.7227 - val_accuracy: 0.3862 - val_loss: 1.6956 - learning_rate: 0.0100\n",
      "Epoch 29/1000\n",
      "\u001b[1m1407/1407\u001b[0m \u001b[32m━━━━━━━━━━━━━━━━━━━━\u001b[0m\u001b[37m\u001b[0m \u001b[1m102s\u001b[0m 73ms/step - accuracy: 0.3903 - loss: 1.6798 - val_accuracy: 0.3988 - val_loss: 1.6607 - learning_rate: 0.0100\n",
      "Epoch 30/1000\n",
      "\u001b[1m1407/1407\u001b[0m \u001b[32m━━━━━━━━━━━━━━━━━━━━\u001b[0m\u001b[37m\u001b[0m \u001b[1m101s\u001b[0m 72ms/step - accuracy: 0.4022 - loss: 1.6694 - val_accuracy: 0.4026 - val_loss: 1.6884 - learning_rate: 0.0100\n",
      "Epoch 31/1000\n",
      "\u001b[1m1407/1407\u001b[0m \u001b[32m━━━━━━━━━━━━━━━━━━━━\u001b[0m\u001b[37m\u001b[0m \u001b[1m105s\u001b[0m 74ms/step - accuracy: 0.4138 - loss: 1.6398 - val_accuracy: 0.4134 - val_loss: 1.6601 - learning_rate: 0.0100\n",
      "Epoch 32/1000\n",
      "\u001b[1m1407/1407\u001b[0m \u001b[32m━━━━━━━━━━━━━━━━━━━━\u001b[0m\u001b[37m\u001b[0m \u001b[1m106s\u001b[0m 76ms/step - accuracy: 0.4271 - loss: 1.6189 - val_accuracy: 0.4064 - val_loss: 1.7312 - learning_rate: 0.0100\n",
      "Epoch 33/1000\n",
      "\u001b[1m1407/1407\u001b[0m \u001b[32m━━━━━━━━━━━━━━━━━━━━\u001b[0m\u001b[37m\u001b[0m \u001b[1m105s\u001b[0m 74ms/step - accuracy: 0.4038 - loss: 1.6760 - val_accuracy: 0.4212 - val_loss: 1.6093 - learning_rate: 0.0100\n",
      "Epoch 34/1000\n",
      "\u001b[1m1407/1407\u001b[0m \u001b[32m━━━━━━━━━━━━━━━━━━━━\u001b[0m\u001b[37m\u001b[0m \u001b[1m107s\u001b[0m 76ms/step - accuracy: 0.4427 - loss: 1.5796 - val_accuracy: 0.4376 - val_loss: 1.6167 - learning_rate: 0.0100\n",
      "Epoch 35/1000\n",
      "\u001b[1m1407/1407\u001b[0m \u001b[32m━━━━━━━━━━━━━━━━━━━━\u001b[0m\u001b[37m\u001b[0m \u001b[1m105s\u001b[0m 75ms/step - accuracy: 0.4481 - loss: 1.5665 - val_accuracy: 0.4180 - val_loss: 1.6523 - learning_rate: 0.0100\n",
      "Epoch 36/1000\n",
      "\u001b[1m1407/1407\u001b[0m \u001b[32m━━━━━━━━━━━━━━━━━━━━\u001b[0m\u001b[37m\u001b[0m \u001b[1m105s\u001b[0m 74ms/step - accuracy: 0.4644 - loss: 1.5313 - val_accuracy: 0.4482 - val_loss: 1.5981 - learning_rate: 0.0100\n",
      "Epoch 37/1000\n",
      "\u001b[1m1407/1407\u001b[0m \u001b[32m━━━━━━━━━━━━━━━━━━━━\u001b[0m\u001b[37m\u001b[0m \u001b[1m108s\u001b[0m 77ms/step - accuracy: 0.4768 - loss: 1.4981 - val_accuracy: 0.4430 - val_loss: 1.5929 - learning_rate: 0.0100\n",
      "Epoch 38/1000\n",
      "\u001b[1m1407/1407\u001b[0m \u001b[32m━━━━━━━━━━━━━━━━━━━━\u001b[0m\u001b[37m\u001b[0m \u001b[1m106s\u001b[0m 75ms/step - accuracy: 0.4813 - loss: 1.4919 - val_accuracy: 0.4480 - val_loss: 1.6021 - learning_rate: 0.0100\n",
      "Epoch 39/1000\n",
      "\u001b[1m1407/1407\u001b[0m \u001b[32m━━━━━━━━━━━━━━━━━━━━\u001b[0m\u001b[37m\u001b[0m \u001b[1m107s\u001b[0m 76ms/step - accuracy: 0.5039 - loss: 1.4394 - val_accuracy: 0.4414 - val_loss: 1.6044 - learning_rate: 0.0100\n",
      "Epoch 40/1000\n",
      "\u001b[1m1407/1407\u001b[0m \u001b[32m━━━━━━━━━━━━━━━━━━━━\u001b[0m\u001b[37m\u001b[0m \u001b[1m108s\u001b[0m 77ms/step - accuracy: 0.5119 - loss: 1.4243 - val_accuracy: 0.4504 - val_loss: 1.6194 - learning_rate: 0.0100\n",
      "Epoch 41/1000\n",
      "\u001b[1m1407/1407\u001b[0m \u001b[32m━━━━━━━━━━━━━━━━━━━━\u001b[0m\u001b[37m\u001b[0m \u001b[1m109s\u001b[0m 77ms/step - accuracy: 0.5195 - loss: 1.3948 - val_accuracy: 0.4486 - val_loss: 1.6140 - learning_rate: 0.0100\n",
      "Epoch 42/1000\n",
      "\u001b[1m1407/1407\u001b[0m \u001b[32m━━━━━━━━━━━━━━━━━━━━\u001b[0m\u001b[37m\u001b[0m \u001b[1m113s\u001b[0m 80ms/step - accuracy: 0.5345 - loss: 1.3682 - val_accuracy: 0.4554 - val_loss: 1.6275 - learning_rate: 0.0100\n",
      "Epoch 43/1000\n",
      "\u001b[1m1407/1407\u001b[0m \u001b[32m━━━━━━━━━━━━━━━━━━━━\u001b[0m\u001b[37m\u001b[0m \u001b[1m116s\u001b[0m 82ms/step - accuracy: 0.5598 - loss: 1.3015 - val_accuracy: 0.4726 - val_loss: 1.6047 - learning_rate: 0.0050\n",
      "Epoch 44/1000\n",
      "\u001b[1m1407/1407\u001b[0m \u001b[32m━━━━━━━━━━━━━━━━━━━━\u001b[0m\u001b[37m\u001b[0m \u001b[1m112s\u001b[0m 80ms/step - accuracy: 0.5781 - loss: 1.2546 - val_accuracy: 0.4664 - val_loss: 1.6307 - learning_rate: 0.0050\n",
      "Epoch 45/1000\n",
      "\u001b[1m1407/1407\u001b[0m \u001b[32m━━━━━━━━━━━━━━━━━━━━\u001b[0m\u001b[37m\u001b[0m \u001b[1m114s\u001b[0m 81ms/step - accuracy: 0.5891 - loss: 1.2295 - val_accuracy: 0.4794 - val_loss: 1.6210 - learning_rate: 0.0050\n",
      "Epoch 46/1000\n",
      "\u001b[1m1407/1407\u001b[0m \u001b[32m━━━━━━━━━━━━━━━━━━━━\u001b[0m\u001b[37m\u001b[0m \u001b[1m111s\u001b[0m 79ms/step - accuracy: 0.6030 - loss: 1.1975 - val_accuracy: 0.4704 - val_loss: 1.6368 - learning_rate: 0.0050\n",
      "Epoch 47/1000\n",
      "\u001b[1m1407/1407\u001b[0m \u001b[32m━━━━━━━━━━━━━━━━━━━━\u001b[0m\u001b[37m\u001b[0m \u001b[1m109s\u001b[0m 77ms/step - accuracy: 0.6096 - loss: 1.1840 - val_accuracy: 0.4690 - val_loss: 1.6810 - learning_rate: 0.0050\n",
      "Epoch 48/1000\n",
      "\u001b[1m1407/1407\u001b[0m \u001b[32m━━━━━━━━━━━━━━━━━━━━\u001b[0m\u001b[37m\u001b[0m \u001b[1m113s\u001b[0m 81ms/step - accuracy: 0.6293 - loss: 1.1305 - val_accuracy: 0.4790 - val_loss: 1.6415 - learning_rate: 0.0025\n",
      "Epoch 49/1000\n",
      "\u001b[1m1407/1407\u001b[0m \u001b[32m━━━━━━━━━━━━━━━━━━━━\u001b[0m\u001b[37m\u001b[0m \u001b[1m112s\u001b[0m 80ms/step - accuracy: 0.6500 - loss: 1.0851 - val_accuracy: 0.4786 - val_loss: 1.6601 - learning_rate: 0.0025\n",
      "Epoch 50/1000\n",
      "\u001b[1m1407/1407\u001b[0m \u001b[32m━━━━━━━━━━━━━━━━━━━━\u001b[0m\u001b[37m\u001b[0m \u001b[1m108s\u001b[0m 77ms/step - accuracy: 0.6548 - loss: 1.0713 - val_accuracy: 0.4716 - val_loss: 1.7154 - learning_rate: 0.0025\n",
      "Epoch 51/1000\n",
      "\u001b[1m1407/1407\u001b[0m \u001b[32m━━━━━━━━━━━━━━━━━━━━\u001b[0m\u001b[37m\u001b[0m \u001b[1m109s\u001b[0m 78ms/step - accuracy: 0.6639 - loss: 1.0480 - val_accuracy: 0.4844 - val_loss: 1.7149 - learning_rate: 0.0025\n",
      "Epoch 52/1000\n",
      "\u001b[1m1407/1407\u001b[0m \u001b[32m━━━━━━━━━━━━━━━━━━━━\u001b[0m\u001b[37m\u001b[0m \u001b[1m109s\u001b[0m 77ms/step - accuracy: 0.6741 - loss: 1.0281 - val_accuracy: 0.4776 - val_loss: 1.7306 - learning_rate: 0.0025\n"
     ]
    }
   ],
   "source": [
    "history = DNN.fit(X_train_scaled, y_train, epochs=1000, validation_data=(X_valid_scaled, y_valid), callbacks=[callbacks])"
   ]
  },
  {
   "cell_type": "code",
   "execution_count": 24,
   "id": "d0bdb1e3-6758-4d7e-b826-07b3ca34bc10",
   "metadata": {},
   "outputs": [
    {
     "name": "stdout",
     "output_type": "stream",
     "text": [
      "\u001b[1m157/157\u001b[0m \u001b[32m━━━━━━━━━━━━━━━━━━━━\u001b[0m\u001b[37m\u001b[0m \u001b[1m3s\u001b[0m 17ms/step - accuracy: 0.4433 - loss: 1.5852\n"
     ]
    },
    {
     "data": {
      "text/plain": [
       "[1.5928579568862915, 0.4429999887943268]"
      ]
     },
     "execution_count": 24,
     "metadata": {},
     "output_type": "execute_result"
    }
   ],
   "source": [
    "DNN.evaluate(X_valid_scaled, y_valid)"
   ]
  },
  {
   "cell_type": "code",
   "execution_count": 27,
   "id": "4a817c60-b1af-4365-b893-5964c1760d38",
   "metadata": {},
   "outputs": [
    {
     "name": "stdout",
     "output_type": "stream",
     "text": [
      "The tensorboard extension is already loaded. To reload it, use:\n",
      "  %reload_ext tensorboard\n"
     ]
    },
    {
     "data": {
      "text/plain": [
       "Reusing TensorBoard on port 6006 (pid 14024), started 18:57:05 ago. (Use '!kill 14024' to kill it.)"
      ]
     },
     "metadata": {},
     "output_type": "display_data"
    },
    {
     "data": {
      "text/html": [
       "\n",
       "      <iframe id=\"tensorboard-frame-151d2fca0eacbf00\" width=\"100%\" height=\"800\" frameborder=\"0\">\n",
       "      </iframe>\n",
       "      <script>\n",
       "        (function() {\n",
       "          const frame = document.getElementById(\"tensorboard-frame-151d2fca0eacbf00\");\n",
       "          const url = new URL(\"/\", window.location);\n",
       "          const port = 6006;\n",
       "          if (port) {\n",
       "            url.port = port;\n",
       "          }\n",
       "          frame.src = url;\n",
       "        })();\n",
       "      </script>\n",
       "    "
      ],
      "text/plain": [
       "<IPython.core.display.HTML object>"
      ]
     },
     "metadata": {},
     "output_type": "display_data"
    }
   ],
   "source": [
    "%load_ext tensorboard\n",
    "%tensorboard --logdir=./Logs"
   ]
  },
  {
   "cell_type": "code",
   "execution_count": null,
   "id": "9028f063-6612-431b-9dbd-1f87e45a76e8",
   "metadata": {},
   "outputs": [],
   "source": []
  },
  {
   "cell_type": "code",
   "execution_count": null,
   "id": "2c67d5fe-da23-480e-930c-87a3034b0347",
   "metadata": {},
   "outputs": [],
   "source": []
  }
 ],
 "metadata": {
  "kernelspec": {
   "display_name": "Python 3 (ipykernel)",
   "language": "python",
   "name": "python3"
  },
  "language_info": {
   "codemirror_mode": {
    "name": "ipython",
    "version": 3
   },
   "file_extension": ".py",
   "mimetype": "text/x-python",
   "name": "python",
   "nbconvert_exporter": "python",
   "pygments_lexer": "ipython3",
   "version": "3.11.7"
  }
 },
 "nbformat": 4,
 "nbformat_minor": 5
}
